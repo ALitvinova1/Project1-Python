{
  "cells": [
    {
      "cell_type": "markdown",
      "id": "c813e47f-f32f-443a-a7ee-a1e74ff16f61",
      "metadata": {
        "id": "c813e47f-f32f-443a-a7ee-a1e74ff16f61"
      },
      "source": [
        "# В данной исследовательской работе я буду работать с датасетом посетителей магазина(источник: https://www.kaggle.com/datasets/shwetabh123/mall-customers?resource=download), в столбцах написаны: id, пол, возраст, доход, рейтинг трат."
      ]
    },
    {
      "cell_type": "markdown",
      "id": "16056ccf-5733-4017-ba0a-5a5bf3924c40",
      "metadata": {
        "id": "16056ccf-5733-4017-ba0a-5a5bf3924c40"
      },
      "source": [
        "Загрузим необходимые библиотеки."
      ]
    },
    {
      "cell_type": "code",
      "execution_count": null,
      "id": "6b8fae6e-4e13-4a71-913b-3cf3aa96d774",
      "metadata": {
        "id": "6b8fae6e-4e13-4a71-913b-3cf3aa96d774"
      },
      "outputs": [],
      "source": [
        "import csv"
      ]
    },
    {
      "cell_type": "code",
      "execution_count": null,
      "id": "06f86b7c-e231-42b7-a6ec-edcf832bc23c",
      "metadata": {
        "id": "06f86b7c-e231-42b7-a6ec-edcf832bc23c",
        "outputId": "8157a349-c25e-4c3a-eed9-1f4685d13ee7"
      },
      "outputs": [
        {
          "name": "stdout",
          "output_type": "stream",
          "text": [
            "['0002', 'Male', '21', '15', '81']\n"
          ]
        }
      ],
      "source": [
        "rows = [] # Так как csv файлы не индексируемые, для своего удобства добавим их в список rows\n",
        "with open('Mall_Customers.csv', newline='') as csvfile:\n",
        "    data = csv.reader(csvfile)\n",
        "    next(data)  # Пропускаем заголовок\n",
        "    for row in data:\n",
        "        rows.append(row)\n",
        "\n",
        "print(rows[1])"
      ]
    },
    {
      "cell_type": "markdown",
      "id": "ecf65193-ab49-412b-b651-2e53f92ae627",
      "metadata": {
        "id": "ecf65193-ab49-412b-b651-2e53f92ae627"
      },
      "source": [
        "Проведем исследование того, кто больше ходит в магазин, женщины или мужчины. Для этого посчитаем количество мужчин и из общего количества посителей вычтем это число, тем самым получим женщин. Оформим это в виде функции. Далее найдем соотношение."
      ]
    },
    {
      "cell_type": "code",
      "execution_count": null,
      "id": "9fa1549b-464e-4e0c-ab89-d0b22d3e91a2",
      "metadata": {
        "id": "9fa1549b-464e-4e0c-ab89-d0b22d3e91a2",
        "outputId": "08991917-1bbf-45f6-cc0b-de82dd6babd7"
      },
      "outputs": [
        {
          "name": "stdout",
          "output_type": "stream",
          "text": [
            "0.44 доля посетителей мужчин, а 0.56 доля женщин\n"
          ]
        }
      ],
      "source": [
        "def count_of_sex(rows):\n",
        "    \"\"\"Эта функция принимает на вход двумерный список rows, а котором хранятся строки нашего датасета На выход она дает 2 числа,  сначала идет количество мужчин покупателей,а потом женщин.\"\"\"\n",
        "    cnt = 0 # Счетчик мужчин\n",
        "    for row in rows:\n",
        "        if row[1] == 'Male':\n",
        "            cnt += 1\n",
        "    return cnt, len(rows) - cnt\n",
        "\n",
        "\n",
        "count_of_men, count_of_women = count_of_sex(rows) # присваиваем результат функции нашим переменным\n",
        "print(f'{count_of_men/len(rows)} доля посетителей мужчин, а {count_of_women/len(rows) } доля женщин')"
      ]
    },
    {
      "cell_type": "markdown",
      "id": "e7921c0b-4475-4b68-b66f-6c522bfeef9f",
      "metadata": {
        "id": "e7921c0b-4475-4b68-b66f-6c522bfeef9f"
      },
      "source": [
        "Можно сделать вывод о том, что большинство посетителей магазина - женщины, их 56%, а мужчин 44%. Теперь давайте выясним то, какой возвраст у человека с самым большим доходом. Для этого создадим две переменные, в которых будут храниться доход и возраст человека, а при встрче дохода, больше нынешнего, будем обновлять переменные."
      ]
    },
    {
      "cell_type": "code",
      "execution_count": null,
      "id": "fbf3239f-2404-4c40-a155-4c7cfeadd521",
      "metadata": {
        "id": "fbf3239f-2404-4c40-a155-4c7cfeadd521",
        "outputId": "212c304e-6c8d-4560-c8c9-2727b34148fa"
      },
      "outputs": [
        {
          "name": "stdout",
          "output_type": "stream",
          "text": [
            "32 - возраст человека, с самым большим доходом\n"
          ]
        }
      ],
      "source": [
        "def age_of_richest(rows):\n",
        "    \"\"\"на вход тот же двумерный список rows, на выход - возраст человека\"\"\"\n",
        "    money = 0\n",
        "    age = 0\n",
        "    for row in rows:\n",
        "        if int(row[3]) > money:\n",
        "            age = row[2]\n",
        "            money = int(row[3])\n",
        "    return age\n",
        "\n",
        "\n",
        "age = age_of_richest(rows)\n",
        "print(f'{age} - возраст человека, с самым большим доходом')"
      ]
    },
    {
      "cell_type": "markdown",
      "id": "551a9806-b6ad-4e80-a460-bf91c946f52e",
      "metadata": {
        "id": "551a9806-b6ad-4e80-a460-bf91c946f52e"
      },
      "source": [
        "Теперь давайте рассчитаем, средний рейтинг трат у мужчин и женщин."
      ]
    },
    {
      "cell_type": "code",
      "execution_count": null,
      "id": "4ed8ef49-102f-4437-9b54-69c7bc74ea5b",
      "metadata": {
        "id": "4ed8ef49-102f-4437-9b54-69c7bc74ea5b",
        "outputId": "09188602-791b-41cd-91b2-884abe5a5fed"
      },
      "outputs": [
        {
          "name": "stdout",
          "output_type": "stream",
          "text": [
            "Средний рейтинг трат у мужчин равен 48.51136363636363, у женщин 51.526785714285715\n"
          ]
        }
      ],
      "source": [
        "def average_check(rows, count_of_men, count_of_women):\n",
        "    \"\"\"на вход двумерный массив rows, а также количество мужчин и женщин для упрощения вычислений, так как они уже были посчитаны в первой функции, на выход - два числа, средний чек мужчины и женщины\"\"\"\n",
        "    men_money_counter = 0 # рейтинг трат у мужчин\n",
        "    women_money_counter = 0 # рейтинг трат у мужчин\n",
        "    for row in rows:\n",
        "        if row[1] == 'Male':\n",
        "            men_money_counter += int(row[4])\n",
        "        else:\n",
        "            women_money_counter += int(row[4])\n",
        "    return men_money_counter/count_of_men,  women_money_counter/count_of_women\n",
        "\n",
        "\n",
        "man_rating, woman_rating = average_check(rows, count_of_men, count_of_women)\n",
        "print(f'Средний рейтинг трат у мужчин равен {man_rating}, у женщин {woman_rating}')"
      ]
    },
    {
      "cell_type": "markdown",
      "id": "ea6a6625-3e0f-44c1-a552-0619c25a8fdd",
      "metadata": {
        "id": "ea6a6625-3e0f-44c1-a552-0619c25a8fdd"
      },
      "source": [
        "Исходя из рейтинга трат можно сделать вывод о том, что в среднем женщины оставляют в магазине немного больше денег, чем мужчины."
      ]
    },
    {
      "cell_type": "code",
      "execution_count": null,
      "id": "7c591671-71b4-4f83-91ae-ac8ada51965c",
      "metadata": {
        "id": "7c591671-71b4-4f83-91ae-ac8ada51965c"
      },
      "outputs": [],
      "source": [
        "Теперь давайте посмотрим, есть ли у магазина покупатели, которым меньше 18 лет."
      ]
    },
    {
      "cell_type": "code",
      "execution_count": null,
      "id": "d9c545c5-bbb9-4bae-8daf-2ec6192d6713",
      "metadata": {
        "id": "d9c545c5-bbb9-4bae-8daf-2ec6192d6713",
        "outputId": "ed439b8a-ea9b-4dff-d41b-eae68afaabd1"
      },
      "outputs": [
        {
          "name": "stdout",
          "output_type": "stream",
          "text": [
            "0\n"
          ]
        }
      ],
      "source": [
        "def school_buyer(rows):\n",
        "    \"\"\"на вход двумерный список rows, на выход количество покупателей, которым меньше 18\"\"\"\n",
        "    cnt = 0 # счетчик\n",
        "    for row in rows:\n",
        "        if int(row[2]) < 18:\n",
        "            cnt += 1\n",
        "    return cnt\n",
        "\n",
        "\n",
        "count_of_children = school_buyer(rows)\n",
        "print(count_of_children)"
      ]
    },
    {
      "cell_type": "markdown",
      "id": "d2e9d604-d05e-458a-8b96-6ab65011a434",
      "metadata": {
        "id": "d2e9d604-d05e-458a-8b96-6ab65011a434"
      },
      "source": [
        "Можно сделать вывод о том, что несовершеннолетние не ходят в данный магазин. Теперь давайте узнаем, люди какого возраста в него ходят. Для это создадим словарь, где ключом будет возраст, а значением будет количество человек в этом возрасте."
      ]
    },
    {
      "cell_type": "code",
      "execution_count": null,
      "id": "6e805349-1d94-4bd7-adfd-3bd5d588dbf8",
      "metadata": {
        "id": "6e805349-1d94-4bd7-adfd-3bd5d588dbf8",
        "outputId": "c4ac7c53-7ef6-4c7d-fc09-983b8848588a"
      },
      "outputs": [
        {
          "name": "stdout",
          "output_type": "stream",
          "text": [
            "{32: 11, 35: 9, 19: 8, 31: 8, 30: 7, 49: 7, 23: 6, 40: 6, 36: 6, 27: 6, 47: 6, 38: 6, 21: 5, 20: 5, 29: 5, 48: 5, 50: 5, 34: 5, 67: 4, 24: 4, 54: 4, 18: 4, 59: 4, 28: 4, 22: 3, 37: 3, 25: 3, 46: 3, 45: 3, 60: 3, 33: 3, 43: 3, 68: 3, 39: 3, 58: 2, 52: 2, 53: 2, 42: 2, 65: 2, 51: 2, 70: 2, 63: 2, 26: 2, 57: 2, 66: 2, 44: 2, 41: 2, 64: 1, 69: 1, 55: 1, 56: 1}\n"
          ]
        }
      ],
      "source": [
        "def age_stat(rows):\n",
        "      \"\"\"на вход тот же двумерный список rows, на выход - словарь встречаемости каждого возраста в датасете\"\"\"\n",
        "    stat_dict = {}\n",
        "    for row in rows:\n",
        "        stat_dict[int(row[2])] = stat_dict.get(int(row[2]), 0) + 1 #накапливаем частоты в словаре\n",
        "    sorted_dict = dict(sorted(stat_dict.items(), key=lambda item: item[1], reverse=True)) # сортировка по убыванию значений с помощью лямбда-функции\n",
        "    return sorted_dict\n",
        "\n",
        "\n",
        "print(age_stat(rows))"
      ]
    },
    {
      "cell_type": "markdown",
      "id": "9f3c0b14-454e-4b2f-8b08-f9dcc60d55fd",
      "metadata": {
        "id": "9f3c0b14-454e-4b2f-8b08-f9dcc60d55fd"
      },
      "source": [
        "Исходя из данного словаря можно сделать вывод о том, что самый популярный возвраст у покупателей -. 32 года, таких покупателей 11 человек."
      ]
    }
  ],
  "metadata": {
    "kernelspec": {
      "display_name": "Python 3 (ipykernel)",
      "language": "python",
      "name": "python3"
    },
    "language_info": {
      "codemirror_mode": {
        "name": "ipython",
        "version": 3
      },
      "file_extension": ".py",
      "mimetype": "text/x-python",
      "name": "python",
      "nbconvert_exporter": "python",
      "pygments_lexer": "ipython3",
      "version": "3.9.13"
    },
    "colab": {
      "provenance": []
    }
  },
  "nbformat": 4,
  "nbformat_minor": 5
}